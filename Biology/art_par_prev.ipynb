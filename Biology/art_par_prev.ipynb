{
 "cells": [
  {
   "cell_type": "code",
   "execution_count": 33,
   "metadata": {},
   "outputs": [],
   "source": [
    "import pandas as pd\n",
    "import numpy as np\n",
    "import matplotlib.pyplot as plt\n",
    "import seaborn as sns\n",
    "import re\n"
   ]
  },
  {
   "cell_type": "markdown",
   "metadata": {},
   "source": [
    "# Debería hacer una tabla tipo esta?:\n",
    "        dist   frag    areacob   bord   radius\n",
    "int\n",
    "prev"
   ]
  },
  {
   "cell_type": "markdown",
   "metadata": {},
   "source": [
    "Abro el archivo expandido con la columna **radius**"
   ]
  },
  {
   "cell_type": "code",
   "execution_count": 98,
   "metadata": {},
   "outputs": [
    {
     "data": {
      "text/html": [
       "<div>\n",
       "<style scoped>\n",
       "    .dataframe tbody tr th:only-of-type {\n",
       "        vertical-align: middle;\n",
       "    }\n",
       "\n",
       "    .dataframe tbody tr th {\n",
       "        vertical-align: top;\n",
       "    }\n",
       "\n",
       "    .dataframe thead th {\n",
       "        text-align: right;\n",
       "    }\n",
       "</style>\n",
       "<table border=\"1\" class=\"dataframe\">\n",
       "  <thead>\n",
       "    <tr style=\"text-align: right;\">\n",
       "      <th></th>\n",
       "      <th>name</th>\n",
       "      <th>intensity</th>\n",
       "      <th>prev</th>\n",
       "      <th>dist</th>\n",
       "      <th>frag</th>\n",
       "      <th>areacob</th>\n",
       "      <th>bord</th>\n",
       "      <th>radius</th>\n",
       "    </tr>\n",
       "  </thead>\n",
       "  <tbody>\n",
       "    <tr>\n",
       "      <th>0</th>\n",
       "      <td>65.0</td>\n",
       "      <td>0.7391</td>\n",
       "      <td>21.739</td>\n",
       "      <td>50.78</td>\n",
       "      <td>2</td>\n",
       "      <td>0.9278</td>\n",
       "      <td>3.6124</td>\n",
       "      <td>500</td>\n",
       "    </tr>\n",
       "    <tr>\n",
       "      <th>1</th>\n",
       "      <td>92.0</td>\n",
       "      <td>0.0667</td>\n",
       "      <td>6.667</td>\n",
       "      <td>24.10</td>\n",
       "      <td>1</td>\n",
       "      <td>0.0469</td>\n",
       "      <td>0.3061</td>\n",
       "      <td>500</td>\n",
       "    </tr>\n",
       "  </tbody>\n",
       "</table>\n",
       "</div>"
      ],
      "text/plain": [
       "   name  intensity    prev   dist  frag  areacob    bord  radius\n",
       "0  65.0     0.7391  21.739  50.78     2   0.9278  3.6124     500\n",
       "1  92.0     0.0667   6.667  24.10     1   0.0469  0.3061     500"
      ]
     },
     "execution_count": 98,
     "metadata": {},
     "output_type": "execute_result"
    }
   ],
   "source": [
    "df_par_rad = pd.read_csv(\"prev_int_rad.csv\")\n",
    "df_par_rad.head(2)"
   ]
  },
  {
   "cell_type": "code",
   "execution_count": 99,
   "metadata": {},
   "outputs": [],
   "source": [
    "df_par_rad[\"name\"] = df_par_rad[\"name\"].astype(\"object\", copy = True, errors = 'raise')"
   ]
  },
  {
   "cell_type": "code",
   "execution_count": 100,
   "metadata": {},
   "outputs": [
    {
     "data": {
      "text/plain": [
       "name          object\n",
       "intensity    float64\n",
       "prev         float64\n",
       "dist         float64\n",
       "frag           int64\n",
       "areacob      float64\n",
       "bord         float64\n",
       "radius         int64\n",
       "dtype: object"
      ]
     },
     "execution_count": 100,
     "metadata": {},
     "output_type": "execute_result"
    }
   ],
   "source": [
    "df_par_rad.dtypes"
   ]
  },
  {
   "cell_type": "code",
   "execution_count": 101,
   "metadata": {},
   "outputs": [
    {
     "data": {
      "text/html": [
       "<div>\n",
       "<style scoped>\n",
       "    .dataframe tbody tr th:only-of-type {\n",
       "        vertical-align: middle;\n",
       "    }\n",
       "\n",
       "    .dataframe tbody tr th {\n",
       "        vertical-align: top;\n",
       "    }\n",
       "\n",
       "    .dataframe thead th {\n",
       "        text-align: right;\n",
       "    }\n",
       "</style>\n",
       "<table border=\"1\" class=\"dataframe\">\n",
       "  <thead>\n",
       "    <tr style=\"text-align: right;\">\n",
       "      <th></th>\n",
       "      <th>intensity</th>\n",
       "      <th>prev</th>\n",
       "      <th>dist</th>\n",
       "      <th>frag</th>\n",
       "      <th>areacob</th>\n",
       "      <th>bord</th>\n",
       "      <th>radius</th>\n",
       "    </tr>\n",
       "  </thead>\n",
       "  <tbody>\n",
       "    <tr>\n",
       "      <th>count</th>\n",
       "      <td>80.000000</td>\n",
       "      <td>80.000000</td>\n",
       "      <td>80.00000</td>\n",
       "      <td>80.000000</td>\n",
       "      <td>80.000000</td>\n",
       "      <td>80.000000</td>\n",
       "      <td>80.000000</td>\n",
       "    </tr>\n",
       "    <tr>\n",
       "      <th>mean</th>\n",
       "      <td>1.185485</td>\n",
       "      <td>25.327150</td>\n",
       "      <td>14.79400</td>\n",
       "      <td>58.912500</td>\n",
       "      <td>119.283354</td>\n",
       "      <td>85.930877</td>\n",
       "      <td>2250.000000</td>\n",
       "    </tr>\n",
       "    <tr>\n",
       "      <th>std</th>\n",
       "      <td>0.930611</td>\n",
       "      <td>12.086717</td>\n",
       "      <td>12.91613</td>\n",
       "      <td>79.494955</td>\n",
       "      <td>169.896738</td>\n",
       "      <td>108.857008</td>\n",
       "      <td>1761.041119</td>\n",
       "    </tr>\n",
       "    <tr>\n",
       "      <th>min</th>\n",
       "      <td>0.066700</td>\n",
       "      <td>6.667000</td>\n",
       "      <td>0.00000</td>\n",
       "      <td>1.000000</td>\n",
       "      <td>0.046900</td>\n",
       "      <td>0.306100</td>\n",
       "      <td>500.000000</td>\n",
       "    </tr>\n",
       "    <tr>\n",
       "      <th>25%</th>\n",
       "      <td>0.602535</td>\n",
       "      <td>17.402000</td>\n",
       "      <td>5.89000</td>\n",
       "      <td>4.750000</td>\n",
       "      <td>7.705950</td>\n",
       "      <td>7.913575</td>\n",
       "      <td>875.000000</td>\n",
       "    </tr>\n",
       "    <tr>\n",
       "      <th>50%</th>\n",
       "      <td>0.867450</td>\n",
       "      <td>22.408000</td>\n",
       "      <td>9.86500</td>\n",
       "      <td>19.000000</td>\n",
       "      <td>30.387950</td>\n",
       "      <td>24.980450</td>\n",
       "      <td>1750.000000</td>\n",
       "    </tr>\n",
       "    <tr>\n",
       "      <th>75%</th>\n",
       "      <td>1.501158</td>\n",
       "      <td>32.960500</td>\n",
       "      <td>20.35000</td>\n",
       "      <td>77.250000</td>\n",
       "      <td>168.080250</td>\n",
       "      <td>102.692450</td>\n",
       "      <td>3125.000000</td>\n",
       "    </tr>\n",
       "    <tr>\n",
       "      <th>max</th>\n",
       "      <td>4.090900</td>\n",
       "      <td>59.091000</td>\n",
       "      <td>50.78000</td>\n",
       "      <td>307.000000</td>\n",
       "      <td>760.565600</td>\n",
       "      <td>383.768800</td>\n",
       "      <td>5000.000000</td>\n",
       "    </tr>\n",
       "  </tbody>\n",
       "</table>\n",
       "</div>"
      ],
      "text/plain": [
       "       intensity       prev      dist        frag     areacob        bord  \\\n",
       "count  80.000000  80.000000  80.00000   80.000000   80.000000   80.000000   \n",
       "mean    1.185485  25.327150  14.79400   58.912500  119.283354   85.930877   \n",
       "std     0.930611  12.086717  12.91613   79.494955  169.896738  108.857008   \n",
       "min     0.066700   6.667000   0.00000    1.000000    0.046900    0.306100   \n",
       "25%     0.602535  17.402000   5.89000    4.750000    7.705950    7.913575   \n",
       "50%     0.867450  22.408000   9.86500   19.000000   30.387950   24.980450   \n",
       "75%     1.501158  32.960500  20.35000   77.250000  168.080250  102.692450   \n",
       "max     4.090900  59.091000  50.78000  307.000000  760.565600  383.768800   \n",
       "\n",
       "            radius  \n",
       "count    80.000000  \n",
       "mean   2250.000000  \n",
       "std    1761.041119  \n",
       "min     500.000000  \n",
       "25%     875.000000  \n",
       "50%    1750.000000  \n",
       "75%    3125.000000  \n",
       "max    5000.000000  "
      ]
     },
     "execution_count": 101,
     "metadata": {},
     "output_type": "execute_result"
    }
   ],
   "source": [
    "df_par_rad.describe()"
   ]
  },
  {
   "cell_type": "markdown",
   "metadata": {},
   "source": [
    "Abro el archivo corto a modo descriptivo"
   ]
  },
  {
   "cell_type": "code",
   "execution_count": 12,
   "metadata": {},
   "outputs": [
    {
     "data": {
      "text/html": [
       "<div>\n",
       "<style scoped>\n",
       "    .dataframe tbody tr th:only-of-type {\n",
       "        vertical-align: middle;\n",
       "    }\n",
       "\n",
       "    .dataframe tbody tr th {\n",
       "        vertical-align: top;\n",
       "    }\n",
       "\n",
       "    .dataframe thead th {\n",
       "        text-align: right;\n",
       "    }\n",
       "</style>\n",
       "<table border=\"1\" class=\"dataframe\">\n",
       "  <thead>\n",
       "    <tr style=\"text-align: right;\">\n",
       "      <th></th>\n",
       "      <th>name</th>\n",
       "      <th>intensity</th>\n",
       "      <th>prev</th>\n",
       "      <th>dist</th>\n",
       "      <th>frag500</th>\n",
       "      <th>areacob500</th>\n",
       "      <th>bord500</th>\n",
       "      <th>frag1000</th>\n",
       "      <th>areacob1000</th>\n",
       "      <th>bord1000</th>\n",
       "      <th>frag2500</th>\n",
       "      <th>areacob2500</th>\n",
       "      <th>bord2500</th>\n",
       "      <th>frag5000</th>\n",
       "      <th>areacob5000</th>\n",
       "      <th>bord5000</th>\n",
       "    </tr>\n",
       "  </thead>\n",
       "  <tbody>\n",
       "    <tr>\n",
       "      <th>0</th>\n",
       "      <td>65</td>\n",
       "      <td>0.7391</td>\n",
       "      <td>21.739</td>\n",
       "      <td>50.78</td>\n",
       "      <td>2</td>\n",
       "      <td>0.9278</td>\n",
       "      <td>3.6124</td>\n",
       "      <td>6</td>\n",
       "      <td>2.1742</td>\n",
       "      <td>8.7554</td>\n",
       "      <td>34</td>\n",
       "      <td>14.9292</td>\n",
       "      <td>37.2258</td>\n",
       "      <td>115</td>\n",
       "      <td>75.9488</td>\n",
       "      <td>139.4744</td>\n",
       "    </tr>\n",
       "    <tr>\n",
       "      <th>1</th>\n",
       "      <td>92</td>\n",
       "      <td>0.0667</td>\n",
       "      <td>6.667</td>\n",
       "      <td>24.10</td>\n",
       "      <td>1</td>\n",
       "      <td>0.0469</td>\n",
       "      <td>0.3061</td>\n",
       "      <td>27</td>\n",
       "      <td>2.7928</td>\n",
       "      <td>11.1433</td>\n",
       "      <td>128</td>\n",
       "      <td>22.0236</td>\n",
       "      <td>61.4716</td>\n",
       "      <td>290</td>\n",
       "      <td>121.1301</td>\n",
       "      <td>197.2111</td>\n",
       "    </tr>\n",
       "  </tbody>\n",
       "</table>\n",
       "</div>"
      ],
      "text/plain": [
       "   name  intensity    prev   dist  frag500  areacob500  bord500  frag1000  \\\n",
       "0    65     0.7391  21.739  50.78        2      0.9278   3.6124         6   \n",
       "1    92     0.0667   6.667  24.10        1      0.0469   0.3061        27   \n",
       "\n",
       "   areacob1000  bord1000  frag2500  areacob2500  bord2500  frag5000  \\\n",
       "0       2.1742    8.7554        34      14.9292   37.2258       115   \n",
       "1       2.7928   11.1433       128      22.0236   61.4716       290   \n",
       "\n",
       "   areacob5000  bord5000  \n",
       "0      75.9488  139.4744  \n",
       "1     121.1301  197.2111  "
      ]
     },
     "execution_count": 12,
     "metadata": {},
     "output_type": "execute_result"
    }
   ],
   "source": [
    "df_par = pd.read_csv(\"prev_int.csv\")\n",
    "df_par.head(2)"
   ]
  },
  {
   "cell_type": "code",
   "execution_count": 13,
   "metadata": {},
   "outputs": [
    {
     "data": {
      "text/html": [
       "<div>\n",
       "<style scoped>\n",
       "    .dataframe tbody tr th:only-of-type {\n",
       "        vertical-align: middle;\n",
       "    }\n",
       "\n",
       "    .dataframe tbody tr th {\n",
       "        vertical-align: top;\n",
       "    }\n",
       "\n",
       "    .dataframe thead th {\n",
       "        text-align: right;\n",
       "    }\n",
       "</style>\n",
       "<table border=\"1\" class=\"dataframe\">\n",
       "  <thead>\n",
       "    <tr style=\"text-align: right;\">\n",
       "      <th></th>\n",
       "      <th>name</th>\n",
       "      <th>intensity</th>\n",
       "      <th>prev</th>\n",
       "      <th>dist</th>\n",
       "      <th>frag500</th>\n",
       "      <th>areacob500</th>\n",
       "      <th>bord500</th>\n",
       "      <th>frag1000</th>\n",
       "      <th>areacob1000</th>\n",
       "      <th>bord1000</th>\n",
       "      <th>frag2500</th>\n",
       "      <th>areacob2500</th>\n",
       "      <th>bord2500</th>\n",
       "      <th>frag5000</th>\n",
       "      <th>areacob5000</th>\n",
       "      <th>bord5000</th>\n",
       "    </tr>\n",
       "  </thead>\n",
       "  <tbody>\n",
       "    <tr>\n",
       "      <th>count</th>\n",
       "      <td>20.000000</td>\n",
       "      <td>20.000000</td>\n",
       "      <td>20.000000</td>\n",
       "      <td>20.000000</td>\n",
       "      <td>20.000000</td>\n",
       "      <td>20.000000</td>\n",
       "      <td>20.000000</td>\n",
       "      <td>20.000000</td>\n",
       "      <td>20.000000</td>\n",
       "      <td>20.000000</td>\n",
       "      <td>20.000000</td>\n",
       "      <td>20.000000</td>\n",
       "      <td>20.000000</td>\n",
       "      <td>20.00000</td>\n",
       "      <td>20.000000</td>\n",
       "      <td>20.00000</td>\n",
       "    </tr>\n",
       "    <tr>\n",
       "      <th>mean</th>\n",
       "      <td>225.950000</td>\n",
       "      <td>1.185485</td>\n",
       "      <td>25.327150</td>\n",
       "      <td>14.794000</td>\n",
       "      <td>4.150000</td>\n",
       "      <td>3.927235</td>\n",
       "      <td>4.846095</td>\n",
       "      <td>10.700000</td>\n",
       "      <td>16.114740</td>\n",
       "      <td>14.510725</td>\n",
       "      <td>49.800000</td>\n",
       "      <td>93.360580</td>\n",
       "      <td>69.440230</td>\n",
       "      <td>171.00000</td>\n",
       "      <td>363.730860</td>\n",
       "      <td>254.92646</td>\n",
       "    </tr>\n",
       "    <tr>\n",
       "      <th>std</th>\n",
       "      <td>65.533017</td>\n",
       "      <td>0.948801</td>\n",
       "      <td>12.322962</td>\n",
       "      <td>13.168587</td>\n",
       "      <td>4.727022</td>\n",
       "      <td>2.506786</td>\n",
       "      <td>2.140243</td>\n",
       "      <td>9.766215</td>\n",
       "      <td>8.845812</td>\n",
       "      <td>5.301145</td>\n",
       "      <td>31.292508</td>\n",
       "      <td>50.387092</td>\n",
       "      <td>22.315453</td>\n",
       "      <td>79.13812</td>\n",
       "      <td>169.043032</td>\n",
       "      <td>78.10750</td>\n",
       "    </tr>\n",
       "    <tr>\n",
       "      <th>min</th>\n",
       "      <td>65.000000</td>\n",
       "      <td>0.066700</td>\n",
       "      <td>6.667000</td>\n",
       "      <td>0.000000</td>\n",
       "      <td>1.000000</td>\n",
       "      <td>0.046900</td>\n",
       "      <td>0.306100</td>\n",
       "      <td>1.000000</td>\n",
       "      <td>2.174200</td>\n",
       "      <td>7.775800</td>\n",
       "      <td>5.000000</td>\n",
       "      <td>14.929200</td>\n",
       "      <td>24.429400</td>\n",
       "      <td>12.00000</td>\n",
       "      <td>75.948800</td>\n",
       "      <td>59.32870</td>\n",
       "    </tr>\n",
       "    <tr>\n",
       "      <th>25%</th>\n",
       "      <td>199.250000</td>\n",
       "      <td>0.602535</td>\n",
       "      <td>17.402000</td>\n",
       "      <td>5.890000</td>\n",
       "      <td>1.000000</td>\n",
       "      <td>2.394475</td>\n",
       "      <td>3.903200</td>\n",
       "      <td>3.000000</td>\n",
       "      <td>11.056325</td>\n",
       "      <td>10.576950</td>\n",
       "      <td>31.000000</td>\n",
       "      <td>55.621450</td>\n",
       "      <td>52.134475</td>\n",
       "      <td>114.50000</td>\n",
       "      <td>263.430975</td>\n",
       "      <td>219.48235</td>\n",
       "    </tr>\n",
       "    <tr>\n",
       "      <th>50%</th>\n",
       "      <td>225.500000</td>\n",
       "      <td>0.867450</td>\n",
       "      <td>22.408000</td>\n",
       "      <td>9.865000</td>\n",
       "      <td>2.000000</td>\n",
       "      <td>3.753400</td>\n",
       "      <td>4.347100</td>\n",
       "      <td>7.500000</td>\n",
       "      <td>14.052950</td>\n",
       "      <td>13.378000</td>\n",
       "      <td>44.000000</td>\n",
       "      <td>81.853000</td>\n",
       "      <td>74.298600</td>\n",
       "      <td>173.00000</td>\n",
       "      <td>343.634500</td>\n",
       "      <td>259.05010</td>\n",
       "    </tr>\n",
       "    <tr>\n",
       "      <th>75%</th>\n",
       "      <td>269.750000</td>\n",
       "      <td>1.501158</td>\n",
       "      <td>32.960500</td>\n",
       "      <td>20.350000</td>\n",
       "      <td>5.250000</td>\n",
       "      <td>5.152150</td>\n",
       "      <td>6.581875</td>\n",
       "      <td>13.500000</td>\n",
       "      <td>20.004000</td>\n",
       "      <td>17.510850</td>\n",
       "      <td>71.250000</td>\n",
       "      <td>124.899875</td>\n",
       "      <td>81.814175</td>\n",
       "      <td>226.00000</td>\n",
       "      <td>449.448775</td>\n",
       "      <td>307.81715</td>\n",
       "    </tr>\n",
       "    <tr>\n",
       "      <th>max</th>\n",
       "      <td>312.000000</td>\n",
       "      <td>4.090900</td>\n",
       "      <td>59.091000</td>\n",
       "      <td>50.780000</td>\n",
       "      <td>17.000000</td>\n",
       "      <td>7.769200</td>\n",
       "      <td>8.816600</td>\n",
       "      <td>36.000000</td>\n",
       "      <td>31.020500</td>\n",
       "      <td>25.531500</td>\n",
       "      <td>128.000000</td>\n",
       "      <td>188.747300</td>\n",
       "      <td>112.106000</td>\n",
       "      <td>307.00000</td>\n",
       "      <td>760.565600</td>\n",
       "      <td>383.76880</td>\n",
       "    </tr>\n",
       "  </tbody>\n",
       "</table>\n",
       "</div>"
      ],
      "text/plain": [
       "             name  intensity       prev       dist    frag500  areacob500  \\\n",
       "count   20.000000  20.000000  20.000000  20.000000  20.000000   20.000000   \n",
       "mean   225.950000   1.185485  25.327150  14.794000   4.150000    3.927235   \n",
       "std     65.533017   0.948801  12.322962  13.168587   4.727022    2.506786   \n",
       "min     65.000000   0.066700   6.667000   0.000000   1.000000    0.046900   \n",
       "25%    199.250000   0.602535  17.402000   5.890000   1.000000    2.394475   \n",
       "50%    225.500000   0.867450  22.408000   9.865000   2.000000    3.753400   \n",
       "75%    269.750000   1.501158  32.960500  20.350000   5.250000    5.152150   \n",
       "max    312.000000   4.090900  59.091000  50.780000  17.000000    7.769200   \n",
       "\n",
       "         bord500   frag1000  areacob1000   bord1000    frag2500  areacob2500  \\\n",
       "count  20.000000  20.000000    20.000000  20.000000   20.000000    20.000000   \n",
       "mean    4.846095  10.700000    16.114740  14.510725   49.800000    93.360580   \n",
       "std     2.140243   9.766215     8.845812   5.301145   31.292508    50.387092   \n",
       "min     0.306100   1.000000     2.174200   7.775800    5.000000    14.929200   \n",
       "25%     3.903200   3.000000    11.056325  10.576950   31.000000    55.621450   \n",
       "50%     4.347100   7.500000    14.052950  13.378000   44.000000    81.853000   \n",
       "75%     6.581875  13.500000    20.004000  17.510850   71.250000   124.899875   \n",
       "max     8.816600  36.000000    31.020500  25.531500  128.000000   188.747300   \n",
       "\n",
       "         bord2500   frag5000  areacob5000   bord5000  \n",
       "count   20.000000   20.00000    20.000000   20.00000  \n",
       "mean    69.440230  171.00000   363.730860  254.92646  \n",
       "std     22.315453   79.13812   169.043032   78.10750  \n",
       "min     24.429400   12.00000    75.948800   59.32870  \n",
       "25%     52.134475  114.50000   263.430975  219.48235  \n",
       "50%     74.298600  173.00000   343.634500  259.05010  \n",
       "75%     81.814175  226.00000   449.448775  307.81715  \n",
       "max    112.106000  307.00000   760.565600  383.76880  "
      ]
     },
     "execution_count": 13,
     "metadata": {},
     "output_type": "execute_result"
    }
   ],
   "source": [
    "df_par.describe()"
   ]
  },
  {
   "cell_type": "code",
   "execution_count": 14,
   "metadata": {},
   "outputs": [
    {
     "data": {
      "text/plain": [
       "name             int64\n",
       "intensity      float64\n",
       "prev           float64\n",
       "dist           float64\n",
       "frag500          int64\n",
       "areacob500     float64\n",
       "bord500        float64\n",
       "frag1000         int64\n",
       "areacob1000    float64\n",
       "bord1000       float64\n",
       "frag2500         int64\n",
       "areacob2500    float64\n",
       "bord2500       float64\n",
       "frag5000         int64\n",
       "areacob5000    float64\n",
       "bord5000       float64\n",
       "dtype: object"
      ]
     },
     "execution_count": 14,
     "metadata": {},
     "output_type": "execute_result"
    }
   ],
   "source": [
    "df_par.dtypes"
   ]
  },
  {
   "cell_type": "code",
   "execution_count": 31,
   "metadata": {},
   "outputs": [],
   "source": [
    "df_par[\"name\"] = df_par[\"name\"].astype(\"object\", copy = True, errors = 'raise')"
   ]
  },
  {
   "cell_type": "code",
   "execution_count": 32,
   "metadata": {},
   "outputs": [
    {
     "data": {
      "text/plain": [
       "name            object\n",
       "intensity      float64\n",
       "prev           float64\n",
       "dist           float64\n",
       "frag500          int64\n",
       "areacob500     float64\n",
       "bord500        float64\n",
       "frag1000         int64\n",
       "areacob1000    float64\n",
       "bord1000       float64\n",
       "frag2500         int64\n",
       "areacob2500    float64\n",
       "bord2500       float64\n",
       "frag5000         int64\n",
       "areacob5000    float64\n",
       "bord5000       float64\n",
       "dtype: object"
      ]
     },
     "execution_count": 32,
     "metadata": {},
     "output_type": "execute_result"
    }
   ],
   "source": [
    "df_par.dtypes"
   ]
  },
  {
   "cell_type": "code",
   "execution_count": 20,
   "metadata": {},
   "outputs": [
    {
     "data": {
      "text/html": [
       "<div>\n",
       "<style scoped>\n",
       "    .dataframe tbody tr th:only-of-type {\n",
       "        vertical-align: middle;\n",
       "    }\n",
       "\n",
       "    .dataframe tbody tr th {\n",
       "        vertical-align: top;\n",
       "    }\n",
       "\n",
       "    .dataframe thead th {\n",
       "        text-align: right;\n",
       "    }\n",
       "</style>\n",
       "<table border=\"1\" class=\"dataframe\">\n",
       "  <thead>\n",
       "    <tr style=\"text-align: right;\">\n",
       "      <th></th>\n",
       "      <th>name</th>\n",
       "      <th>intensity</th>\n",
       "      <th>prev</th>\n",
       "      <th>dist</th>\n",
       "      <th>frag500</th>\n",
       "      <th>areacob500</th>\n",
       "      <th>bord500</th>\n",
       "      <th>frag1000</th>\n",
       "      <th>areacob1000</th>\n",
       "      <th>bord1000</th>\n",
       "      <th>frag2500</th>\n",
       "      <th>areacob2500</th>\n",
       "      <th>bord2500</th>\n",
       "      <th>frag5000</th>\n",
       "      <th>areacob5000</th>\n",
       "      <th>bord5000</th>\n",
       "    </tr>\n",
       "  </thead>\n",
       "  <tbody>\n",
       "    <tr>\n",
       "      <th>0</th>\n",
       "      <td>65</td>\n",
       "      <td>0.7391</td>\n",
       "      <td>21.739</td>\n",
       "      <td>50.78</td>\n",
       "      <td>2</td>\n",
       "      <td>0.9278</td>\n",
       "      <td>3.6124</td>\n",
       "      <td>6</td>\n",
       "      <td>2.1742</td>\n",
       "      <td>8.7554</td>\n",
       "      <td>34</td>\n",
       "      <td>14.9292</td>\n",
       "      <td>37.2258</td>\n",
       "      <td>115</td>\n",
       "      <td>75.9488</td>\n",
       "      <td>139.4744</td>\n",
       "    </tr>\n",
       "    <tr>\n",
       "      <th>1</th>\n",
       "      <td>92</td>\n",
       "      <td>0.0667</td>\n",
       "      <td>6.667</td>\n",
       "      <td>24.10</td>\n",
       "      <td>1</td>\n",
       "      <td>0.0469</td>\n",
       "      <td>0.3061</td>\n",
       "      <td>27</td>\n",
       "      <td>2.7928</td>\n",
       "      <td>11.1433</td>\n",
       "      <td>128</td>\n",
       "      <td>22.0236</td>\n",
       "      <td>61.4716</td>\n",
       "      <td>290</td>\n",
       "      <td>121.1301</td>\n",
       "      <td>197.2111</td>\n",
       "    </tr>\n",
       "  </tbody>\n",
       "</table>\n",
       "</div>"
      ],
      "text/plain": [
       "   name  intensity    prev   dist  frag500  areacob500  bord500  frag1000  \\\n",
       "0    65     0.7391  21.739  50.78        2      0.9278   3.6124         6   \n",
       "1    92     0.0667   6.667  24.10        1      0.0469   0.3061        27   \n",
       "\n",
       "   areacob1000  bord1000  frag2500  areacob2500  bord2500  frag5000  \\\n",
       "0       2.1742    8.7554        34      14.9292   37.2258       115   \n",
       "1       2.7928   11.1433       128      22.0236   61.4716       290   \n",
       "\n",
       "   areacob5000  bord5000  \n",
       "0      75.9488  139.4744  \n",
       "1     121.1301  197.2111  "
      ]
     },
     "execution_count": 20,
     "metadata": {},
     "output_type": "execute_result"
    }
   ],
   "source": [
    "df_par.head(2)"
   ]
  },
  {
   "cell_type": "code",
   "execution_count": 27,
   "metadata": {},
   "outputs": [
    {
     "data": {
      "text/plain": [
       "['name',\n",
       " 'intensity',\n",
       " 'prev',\n",
       " 'dist',\n",
       " 'frag500',\n",
       " 'areacob500',\n",
       " 'bord500',\n",
       " 'frag1000',\n",
       " 'areacob1000',\n",
       " 'bord1000',\n",
       " 'frag2500',\n",
       " 'areacob2500',\n",
       " 'bord2500',\n",
       " 'frag5000',\n",
       " 'areacob5000',\n",
       " 'bord5000']"
      ]
     },
     "execution_count": 27,
     "metadata": {},
     "output_type": "execute_result"
    }
   ],
   "source": [
    "col_name = list(df_par.columns)\n",
    "col_name"
   ]
  },
  {
   "cell_type": "code",
   "execution_count": 78,
   "metadata": {},
   "outputs": [
    {
     "data": {
      "text/plain": [
       "[]"
      ]
     },
     "execution_count": 78,
     "metadata": {},
     "output_type": "execute_result"
    }
   ],
   "source": [
    "# pattern_reg = r'[0-9]{3,}'\n",
    "# coinc = re.findall(pattern_reg,string= 'name')\n",
    "# coinc"
   ]
  },
  {
   "cell_type": "code",
   "execution_count": null,
   "metadata": {},
   "outputs": [],
   "source": [
    "if coinc in areacob500:"
   ]
  },
  {
   "cell_type": "code",
   "execution_count": 77,
   "metadata": {},
   "outputs": [
    {
     "data": {
      "text/plain": [
       "Index(['name', 'intensity', 'prev', 'dist', 'frag500', 'areacob500', 'bord500',\n",
       "       'frag1000', 'areacob1000', 'bord1000', 'frag2500', 'areacob2500',\n",
       "       'bord2500', 'frag5000', 'areacob5000', 'bord5000'],\n",
       "      dtype='object')"
      ]
     },
     "execution_count": 77,
     "metadata": {},
     "output_type": "execute_result"
    }
   ],
   "source": [
    "df_par.columns"
   ]
  },
  {
   "cell_type": "markdown",
   "metadata": {},
   "source": [
    "Genero una columna con el radio al que se está refiriendo (patrón regex)"
   ]
  },
  {
   "cell_type": "code",
   "execution_count": 85,
   "metadata": {},
   "outputs": [
    {
     "name": "stdout",
     "output_type": "stream",
     "text": [
      "bord5000\n"
     ]
    },
    {
     "data": {
      "text/plain": [
       "['5000']"
      ]
     },
     "execution_count": 85,
     "metadata": {},
     "output_type": "execute_result"
    }
   ],
   "source": [
    "################## SIN TERMINAR\n",
    "def radius():\n",
    "    for i in df_par.columns:\n",
    "          \n",
    "        pattern_reg = r'[0-9]{3,}'\n",
    "        coinc = re.findall(pattern_reg,string= i)\n",
    "    print(i) \n",
    "    return coinc\n",
    "        # if coinc in i:\n",
    "\n",
    "        #     return coinc\n",
    "        # else:\n",
    "        #     pass\n",
    "radius()"
   ]
  },
  {
   "cell_type": "code",
   "execution_count": 92,
   "metadata": {},
   "outputs": [
    {
     "data": {
      "text/plain": [
       "name            object\n",
       "intensity      float64\n",
       "prev           float64\n",
       "dist           float64\n",
       "frag500          int64\n",
       "areacob500     float64\n",
       "bord500        float64\n",
       "frag1000         int64\n",
       "areacob1000    float64\n",
       "bord1000       float64\n",
       "frag2500         int64\n",
       "areacob2500    float64\n",
       "bord2500       float64\n",
       "frag5000         int64\n",
       "areacob5000    float64\n",
       "bord5000       float64\n",
       "dtype: object"
      ]
     },
     "execution_count": 92,
     "metadata": {},
     "output_type": "execute_result"
    }
   ],
   "source": [
    "df_par.dtypes"
   ]
  },
  {
   "cell_type": "code",
   "execution_count": 90,
   "metadata": {},
   "outputs": [
    {
     "data": {
      "text/plain": [
       "array([[65, 0.7391, 21.739, 50.78, 2, 0.9278, 3.6124, 6, 2.1742, 8.7554,\n",
       "        34, 14.9292, 37.2258, 115, 75.9488, 139.4744],\n",
       "       [92, 0.0667, 6.667, 24.1, 1, 0.0469, 0.3061, 27, 2.7928, 11.1433,\n",
       "        128, 22.0236, 61.4716, 290, 121.1301, 197.2111],\n",
       "       [182, 0.8182, 36.36, 30.32, 2, 7.6848, 3.9185, 3, 28.3215, 8.8779,\n",
       "        28, 166.2832, 47.8793, 156, 545.9803, 190.4762],\n",
       "       [186, 1.3913, 34.783, 0.0, 1, 7.7317, 4.041, 1, 31.0205, 7.9595,\n",
       "        5, 173.4714, 42.4301, 12, 609.0148, 172.2306],\n",
       "       [194, 1.4118, 17.647, 9.79, 1, 4.4984, 4.4083, 3, 15.0979,\n",
       "        15.7965, 36, 123.6136, 79.1661, 178, 368.8071, 279.9896],\n",
       "       [201, 0.6667, 16.667, 17.2, 15, 3.8893, 3.245, 21, 18.9403,\n",
       "        13.5923, 70, 128.7587, 80.1457, 225, 414.963, 291.6839],\n",
       "       [205, 4.0909, 59.091, 1.73, 1, 2.5866, 3.8573, 1, 9.2968, 13.1025,\n",
       "        16, 40.1861, 50.5732, 61, 201.5773, 236.2125],\n",
       "       [206, 1.0476, 21.429, 1.05, 1, 0.253, 0.9796, 1, 4.9952, 7.7758,\n",
       "        6, 48.3958, 66.5534, 69, 262.0533, 232.4165],\n",
       "       [218, 2.0, 40.0, 7.85, 3, 3.2614, 7.286, 7, 16.5037, 19.3476, 26,\n",
       "        81.0189, 74.0231, 113, 287.5539, 268.479],\n",
       "       [220, 0.9167, 16.667, 32.09, 4, 4.639, 7.0411, 13, 19.6057,\n",
       "        16.8986, 32, 93.6239, 85.1663, 128, 350.3634, 305.6436],\n",
       "       [231, 0.5714286, 14.286, 19.05, 1, 5.6512, 5.143, 6, 19.4745,\n",
       "        14.4495, 52, 105.0294, 52.6549, 197, 488.4658, 226.9061],\n",
       "       [243, 1.4, 30.0, 9.21, 2, 1.8181, 8.8166, 5, 12.0052, 25.5315, 44,\n",
       "        58.03, 74.5741, 97, 263.8902, 280.6631],\n",
       "       [249, 0.6470588, 32.353, 6.36, 8, 4.7983, 6.0002, 12, 10.0934,\n",
       "        13.1637, 44, 81.45, 87.9827, 165, 313.7198, 314.3378],\n",
       "       [264, 0.4615385, 7.692, 29.01, 6, 3.1958, 7.5921, 15, 11.3773,\n",
       "        20.7558, 78, 70.7756, 99.5546, 212, 308.6497, 383.7688],\n",
       "       [268, 0.3076923, 23.077, 4.48, 1, 7.7692, 4.041, 11, 29.8959,\n",
       "        12.429, 77, 160.4071, 77.2068, 274, 571.5933, 246.5598],\n",
       "       [275, 0.6129032, 19.355, 1.0, 5, 2.6241, 7.1023, 13, 12.6706,\n",
       "        23.9396, 57, 81.6656, 112.106, 182, 436.4431, 353.6453],\n",
       "       [295, 0.25, 25.0, 15.37, 17, 7.713, 4.041, 36, 30.88, 7.9595, 75,\n",
       "        188.7473, 24.4294, 242, 760.5656, 59.3287],\n",
       "       [303, 2.4347826, 21.739, 7.45, 2, 3.6175, 4.7757, 8, 12.9424,\n",
       "        12.3678, 54, 46.9338, 60.1246, 229, 206.6099, 249.6212],\n",
       "       [310, 1.7692308, 38.462, 9.94, 1, 4.9858, 6.4288, 1, 21.1989,\n",
       "        16.47, 33, 82.0404, 80.6968, 168, 350.3822, 325.2973],\n",
       "       [312, 2.1060606, 23.529, 19.1, 9, 0.8528, 4.2859, 24, 13.008,\n",
       "        19.8987, 101, 99.828, 94.8401, 307, 336.9056, 344.5837]],\n",
       "      dtype=object)"
      ]
     },
     "execution_count": 90,
     "metadata": {},
     "output_type": "execute_result"
    }
   ],
   "source": [
    "array_par = np.array(df_par)\n",
    "array_par"
   ]
  },
  {
   "cell_type": "markdown",
   "metadata": {},
   "source": [
    "Matriz de correlación entre variables y mapa de calor"
   ]
  },
  {
   "cell_type": "code",
   "execution_count": 91,
   "metadata": {},
   "outputs": [
    {
     "ename": "AttributeError",
     "evalue": "'float' object has no attribute 'shape'",
     "output_type": "error",
     "traceback": [
      "\u001b[0;31m---------------------------------------------------------------------------\u001b[0m",
      "\u001b[0;31mAttributeError\u001b[0m                            Traceback (most recent call last)",
      "\u001b[0;32m/tmp/ipykernel_442/1087726652.py\u001b[0m in \u001b[0;36m<module>\u001b[0;34m\u001b[0m\n\u001b[0;32m----> 1\u001b[0;31m \u001b[0mcoef_p\u001b[0m \u001b[0;34m=\u001b[0m \u001b[0mnp\u001b[0m\u001b[0;34m.\u001b[0m\u001b[0mcorrcoef\u001b[0m\u001b[0;34m(\u001b[0m\u001b[0marray_par\u001b[0m\u001b[0;34m)\u001b[0m\u001b[0;34m\u001b[0m\u001b[0;34m\u001b[0m\u001b[0m\n\u001b[0m",
      "\u001b[0;32m<__array_function__ internals>\u001b[0m in \u001b[0;36mcorrcoef\u001b[0;34m(*args, **kwargs)\u001b[0m\n",
      "\u001b[0;32m~/anaconda3/lib/python3.9/site-packages/numpy/lib/function_base.py\u001b[0m in \u001b[0;36mcorrcoef\u001b[0;34m(x, y, rowvar, bias, ddof, dtype)\u001b[0m\n\u001b[1;32m   2632\u001b[0m         warnings.warn('bias and ddof have no effect and are deprecated',\n\u001b[1;32m   2633\u001b[0m                       DeprecationWarning, stacklevel=3)\n\u001b[0;32m-> 2634\u001b[0;31m     \u001b[0mc\u001b[0m \u001b[0;34m=\u001b[0m \u001b[0mcov\u001b[0m\u001b[0;34m(\u001b[0m\u001b[0mx\u001b[0m\u001b[0;34m,\u001b[0m \u001b[0my\u001b[0m\u001b[0;34m,\u001b[0m \u001b[0mrowvar\u001b[0m\u001b[0;34m,\u001b[0m \u001b[0mdtype\u001b[0m\u001b[0;34m=\u001b[0m\u001b[0mdtype\u001b[0m\u001b[0;34m)\u001b[0m\u001b[0;34m\u001b[0m\u001b[0;34m\u001b[0m\u001b[0m\n\u001b[0m\u001b[1;32m   2635\u001b[0m     \u001b[0;32mtry\u001b[0m\u001b[0;34m:\u001b[0m\u001b[0;34m\u001b[0m\u001b[0;34m\u001b[0m\u001b[0m\n\u001b[1;32m   2636\u001b[0m         \u001b[0md\u001b[0m \u001b[0;34m=\u001b[0m \u001b[0mdiag\u001b[0m\u001b[0;34m(\u001b[0m\u001b[0mc\u001b[0m\u001b[0;34m)\u001b[0m\u001b[0;34m\u001b[0m\u001b[0;34m\u001b[0m\u001b[0m\n",
      "\u001b[0;32m<__array_function__ internals>\u001b[0m in \u001b[0;36mcov\u001b[0;34m(*args, **kwargs)\u001b[0m\n",
      "\u001b[0;32m~/anaconda3/lib/python3.9/site-packages/numpy/lib/function_base.py\u001b[0m in \u001b[0;36mcov\u001b[0;34m(m, y, rowvar, bias, ddof, fweights, aweights, dtype)\u001b[0m\n\u001b[1;32m   2467\u001b[0m             \u001b[0mw\u001b[0m \u001b[0;34m*=\u001b[0m \u001b[0maweights\u001b[0m\u001b[0;34m\u001b[0m\u001b[0;34m\u001b[0m\u001b[0m\n\u001b[1;32m   2468\u001b[0m \u001b[0;34m\u001b[0m\u001b[0m\n\u001b[0;32m-> 2469\u001b[0;31m     \u001b[0mavg\u001b[0m\u001b[0;34m,\u001b[0m \u001b[0mw_sum\u001b[0m \u001b[0;34m=\u001b[0m \u001b[0maverage\u001b[0m\u001b[0;34m(\u001b[0m\u001b[0mX\u001b[0m\u001b[0;34m,\u001b[0m \u001b[0maxis\u001b[0m\u001b[0;34m=\u001b[0m\u001b[0;36m1\u001b[0m\u001b[0;34m,\u001b[0m \u001b[0mweights\u001b[0m\u001b[0;34m=\u001b[0m\u001b[0mw\u001b[0m\u001b[0;34m,\u001b[0m \u001b[0mreturned\u001b[0m\u001b[0;34m=\u001b[0m\u001b[0;32mTrue\u001b[0m\u001b[0;34m)\u001b[0m\u001b[0;34m\u001b[0m\u001b[0;34m\u001b[0m\u001b[0m\n\u001b[0m\u001b[1;32m   2470\u001b[0m     \u001b[0mw_sum\u001b[0m \u001b[0;34m=\u001b[0m \u001b[0mw_sum\u001b[0m\u001b[0;34m[\u001b[0m\u001b[0;36m0\u001b[0m\u001b[0;34m]\u001b[0m\u001b[0;34m\u001b[0m\u001b[0;34m\u001b[0m\u001b[0m\n\u001b[1;32m   2471\u001b[0m \u001b[0;34m\u001b[0m\u001b[0m\n",
      "\u001b[0;32m<__array_function__ internals>\u001b[0m in \u001b[0;36maverage\u001b[0;34m(*args, **kwargs)\u001b[0m\n",
      "\u001b[0;32m~/anaconda3/lib/python3.9/site-packages/numpy/lib/function_base.py\u001b[0m in \u001b[0;36maverage\u001b[0;34m(a, axis, weights, returned)\u001b[0m\n\u001b[1;32m    413\u001b[0m \u001b[0;34m\u001b[0m\u001b[0m\n\u001b[1;32m    414\u001b[0m     \u001b[0;32mif\u001b[0m \u001b[0mreturned\u001b[0m\u001b[0;34m:\u001b[0m\u001b[0;34m\u001b[0m\u001b[0;34m\u001b[0m\u001b[0m\n\u001b[0;32m--> 415\u001b[0;31m         \u001b[0;32mif\u001b[0m \u001b[0mscl\u001b[0m\u001b[0;34m.\u001b[0m\u001b[0mshape\u001b[0m \u001b[0;34m!=\u001b[0m \u001b[0mavg\u001b[0m\u001b[0;34m.\u001b[0m\u001b[0mshape\u001b[0m\u001b[0;34m:\u001b[0m\u001b[0;34m\u001b[0m\u001b[0;34m\u001b[0m\u001b[0m\n\u001b[0m\u001b[1;32m    416\u001b[0m             \u001b[0mscl\u001b[0m \u001b[0;34m=\u001b[0m \u001b[0mnp\u001b[0m\u001b[0;34m.\u001b[0m\u001b[0mbroadcast_to\u001b[0m\u001b[0;34m(\u001b[0m\u001b[0mscl\u001b[0m\u001b[0;34m,\u001b[0m \u001b[0mavg\u001b[0m\u001b[0;34m.\u001b[0m\u001b[0mshape\u001b[0m\u001b[0;34m)\u001b[0m\u001b[0;34m.\u001b[0m\u001b[0mcopy\u001b[0m\u001b[0;34m(\u001b[0m\u001b[0;34m)\u001b[0m\u001b[0;34m\u001b[0m\u001b[0;34m\u001b[0m\u001b[0m\n\u001b[1;32m    417\u001b[0m         \u001b[0;32mreturn\u001b[0m \u001b[0mavg\u001b[0m\u001b[0;34m,\u001b[0m \u001b[0mscl\u001b[0m\u001b[0;34m\u001b[0m\u001b[0;34m\u001b[0m\u001b[0m\n",
      "\u001b[0;31mAttributeError\u001b[0m: 'float' object has no attribute 'shape'"
     ]
    }
   ],
   "source": [
    "coef_p = np.corrcoef(array_par)"
   ]
  },
  {
   "cell_type": "markdown",
   "metadata": {},
   "source": [
    "Boxplot de las variables"
   ]
  },
  {
   "cell_type": "code",
   "execution_count": 96,
   "metadata": {},
   "outputs": [
    {
     "data": {
      "text/html": [
       "<div>\n",
       "<style scoped>\n",
       "    .dataframe tbody tr th:only-of-type {\n",
       "        vertical-align: middle;\n",
       "    }\n",
       "\n",
       "    .dataframe tbody tr th {\n",
       "        vertical-align: top;\n",
       "    }\n",
       "\n",
       "    .dataframe thead th {\n",
       "        text-align: right;\n",
       "    }\n",
       "</style>\n",
       "<table border=\"1\" class=\"dataframe\">\n",
       "  <thead>\n",
       "    <tr style=\"text-align: right;\">\n",
       "      <th></th>\n",
       "      <th>name</th>\n",
       "      <th>intensity</th>\n",
       "      <th>prev</th>\n",
       "      <th>dist</th>\n",
       "      <th>frag500</th>\n",
       "      <th>areacob500</th>\n",
       "      <th>bord500</th>\n",
       "      <th>frag1000</th>\n",
       "      <th>areacob1000</th>\n",
       "      <th>bord1000</th>\n",
       "      <th>frag2500</th>\n",
       "      <th>areacob2500</th>\n",
       "      <th>bord2500</th>\n",
       "      <th>frag5000</th>\n",
       "      <th>areacob5000</th>\n",
       "      <th>bord5000</th>\n",
       "    </tr>\n",
       "  </thead>\n",
       "  <tbody>\n",
       "    <tr>\n",
       "      <th>0</th>\n",
       "      <td>65</td>\n",
       "      <td>0.7391</td>\n",
       "      <td>21.739</td>\n",
       "      <td>50.78</td>\n",
       "      <td>2</td>\n",
       "      <td>0.9278</td>\n",
       "      <td>3.6124</td>\n",
       "      <td>6</td>\n",
       "      <td>2.1742</td>\n",
       "      <td>8.7554</td>\n",
       "      <td>34</td>\n",
       "      <td>14.9292</td>\n",
       "      <td>37.2258</td>\n",
       "      <td>115</td>\n",
       "      <td>75.9488</td>\n",
       "      <td>139.4744</td>\n",
       "    </tr>\n",
       "    <tr>\n",
       "      <th>1</th>\n",
       "      <td>92</td>\n",
       "      <td>0.0667</td>\n",
       "      <td>6.667</td>\n",
       "      <td>24.10</td>\n",
       "      <td>1</td>\n",
       "      <td>0.0469</td>\n",
       "      <td>0.3061</td>\n",
       "      <td>27</td>\n",
       "      <td>2.7928</td>\n",
       "      <td>11.1433</td>\n",
       "      <td>128</td>\n",
       "      <td>22.0236</td>\n",
       "      <td>61.4716</td>\n",
       "      <td>290</td>\n",
       "      <td>121.1301</td>\n",
       "      <td>197.2111</td>\n",
       "    </tr>\n",
       "  </tbody>\n",
       "</table>\n",
       "</div>"
      ],
      "text/plain": [
       "  name  intensity    prev   dist  frag500  areacob500  bord500  frag1000  \\\n",
       "0   65     0.7391  21.739  50.78        2      0.9278   3.6124         6   \n",
       "1   92     0.0667   6.667  24.10        1      0.0469   0.3061        27   \n",
       "\n",
       "   areacob1000  bord1000  frag2500  areacob2500  bord2500  frag5000  \\\n",
       "0       2.1742    8.7554        34      14.9292   37.2258       115   \n",
       "1       2.7928   11.1433       128      22.0236   61.4716       290   \n",
       "\n",
       "   areacob5000  bord5000  \n",
       "0      75.9488  139.4744  \n",
       "1     121.1301  197.2111  "
      ]
     },
     "execution_count": 96,
     "metadata": {},
     "output_type": "execute_result"
    }
   ],
   "source": [
    "df_par.head(2)"
   ]
  },
  {
   "cell_type": "code",
   "execution_count": 95,
   "metadata": {},
   "outputs": [
    {
     "data": {
      "image/png": "[encoded data removed]",
      "text/plain": [
       "<Figure size 1080x720 with 1 Axes>"
      ]
     },
     "metadata": {
      "needs_background": "light"
     },
     "output_type": "display_data"
    }
   ],
   "source": [
    "fig = plt.figure(figsize= (15,10))\n",
    "ax = fig.add_subplot(111)\n",
    "\n",
    "# Creando el grafico de cajas\n",
    "bp = ax.boxplot(df_par)"
   ]
  },
  {
   "cell_type": "code",
   "execution_count": 103,
   "metadata": {},
   "outputs": [
    {
     "data": {
      "text/html": [
       "<div>\n",
       "<style scoped>\n",
       "    .dataframe tbody tr th:only-of-type {\n",
       "        vertical-align: middle;\n",
       "    }\n",
       "\n",
       "    .dataframe tbody tr th {\n",
       "        vertical-align: top;\n",
       "    }\n",
       "\n",
       "    .dataframe thead th {\n",
       "        text-align: right;\n",
       "    }\n",
       "</style>\n",
       "<table border=\"1\" class=\"dataframe\">\n",
       "  <thead>\n",
       "    <tr style=\"text-align: right;\">\n",
       "      <th></th>\n",
       "      <th>name</th>\n",
       "      <th>intensity</th>\n",
       "      <th>prev</th>\n",
       "      <th>dist</th>\n",
       "      <th>frag</th>\n",
       "      <th>areacob</th>\n",
       "      <th>bord</th>\n",
       "      <th>radius</th>\n",
       "    </tr>\n",
       "  </thead>\n",
       "  <tbody>\n",
       "    <tr>\n",
       "      <th>0</th>\n",
       "      <td>65.0</td>\n",
       "      <td>0.7391</td>\n",
       "      <td>21.739</td>\n",
       "      <td>50.78</td>\n",
       "      <td>2</td>\n",
       "      <td>0.9278</td>\n",
       "      <td>3.6124</td>\n",
       "      <td>500</td>\n",
       "    </tr>\n",
       "    <tr>\n",
       "      <th>1</th>\n",
       "      <td>92.0</td>\n",
       "      <td>0.0667</td>\n",
       "      <td>6.667</td>\n",
       "      <td>24.10</td>\n",
       "      <td>1</td>\n",
       "      <td>0.0469</td>\n",
       "      <td>0.3061</td>\n",
       "      <td>500</td>\n",
       "    </tr>\n",
       "  </tbody>\n",
       "</table>\n",
       "</div>"
      ],
      "text/plain": [
       "   name  intensity    prev   dist  frag  areacob    bord  radius\n",
       "0  65.0     0.7391  21.739  50.78     2   0.9278  3.6124     500\n",
       "1  92.0     0.0667   6.667  24.10     1   0.0469  0.3061     500"
      ]
     },
     "execution_count": 103,
     "metadata": {},
     "output_type": "execute_result"
    }
   ],
   "source": [
    "df_par_rad.head(2)"
   ]
  },
  {
   "cell_type": "code",
   "execution_count": null,
   "metadata": {},
   "outputs": [],
   "source": [
    "fig = plt.subplots(1, 2, figsize=(20,7))"
   ]
  },
  {
   "cell_type": "code",
   "execution_count": 111,
   "metadata": {},
   "outputs": [
    {
     "ename": "AttributeError",
     "evalue": "'Figure' object has no attribute 'plt'",
     "output_type": "error",
     "traceback": [
      "\u001b[0;31m---------------------------------------------------------------------------\u001b[0m",
      "\u001b[0;31mAttributeError\u001b[0m                            Traceback (most recent call last)",
      "\u001b[0;32m/tmp/ipykernel_442/3408384199.py\u001b[0m in \u001b[0;36m<module>\u001b[0;34m\u001b[0m\n\u001b[1;32m      1\u001b[0m \u001b[0mfig\u001b[0m \u001b[0;34m=\u001b[0m \u001b[0mplt\u001b[0m\u001b[0;34m.\u001b[0m\u001b[0msubplots\u001b[0m\u001b[0;34m(\u001b[0m\u001b[0;36m1\u001b[0m\u001b[0;34m,\u001b[0m \u001b[0;36m2\u001b[0m\u001b[0;34m,\u001b[0m \u001b[0mfigsize\u001b[0m\u001b[0;34m=\u001b[0m\u001b[0;34m(\u001b[0m\u001b[0;36m20\u001b[0m\u001b[0;34m,\u001b[0m\u001b[0;36m7\u001b[0m\u001b[0;34m)\u001b[0m\u001b[0;34m)\u001b[0m\u001b[0;34m\u001b[0m\u001b[0;34m\u001b[0m\u001b[0m\n\u001b[0;32m----> 2\u001b[0;31m fig[0].plt.scatterplot('prev', 'bord', data = df_par_rad,\n\u001b[0m\u001b[1;32m      3\u001b[0m                 \u001b[0ms\u001b[0m \u001b[0;34m=\u001b[0m \u001b[0;36m25\u001b[0m\u001b[0;34m,\u001b[0m \u001b[0;31m# tamaño de los marcadores\u001b[0m\u001b[0;34m\u001b[0m\u001b[0;34m\u001b[0m\u001b[0m\n\u001b[1;32m      4\u001b[0m                 hue = 'radius') # puntos de distintos colores en función de la variable que indiquemos \n\u001b[1;32m      5\u001b[0m fig[1].plt.scatterplot('intensity', 'bord', data = df_par_rad,\n",
      "\u001b[0;31mAttributeError\u001b[0m: 'Figure' object has no attribute 'plt'"
     ]
    },
    {
     "data": {
      "image/png": "[encoded data removed]",
      "text/plain": [
       "<Figure size 1440x504 with 2 Axes>"
      ]
     },
     "metadata": {
      "needs_background": "light"
     },
     "output_type": "display_data"
    }
   ],
   "source": [
    "#intentando hacer varios scatterplot con todas las VV\n",
    "fig = plt.subplots(1, 2, figsize=(20,7))\n",
    "fig[0].plt.scatterplot('prev', 'bord', data = df_par_rad,\n",
    "                s = 25, # tamaño de los marcadores   \n",
    "                hue = 'radius') # puntos de distintos colores en función de la variable que indiquemos \n",
    "fig[1].plt.scatterplot('intensity', 'bord', data = df_par_rad,\n",
    "                s = 25, # tamaño de los marcadores   \n",
    "                hue = 'radius') # puntos de distintos colores en función de la variable que indiquemos  \n",
    "plt.show();"
   ]
  },
  {
   "cell_type": "code",
   "execution_count": null,
   "metadata": {},
   "outputs": [],
   "source": []
  },
  {
   "cell_type": "code",
   "execution_count": 102,
   "metadata": {},
   "outputs": [
    {
     "ename": "TypeError",
     "evalue": "boxplot() got an unexpected keyword argument 'hue'",
     "output_type": "error",
     "traceback": [
      "\u001b[0;31m---------------------------------------------------------------------------\u001b[0m",
      "\u001b[0;31mTypeError\u001b[0m                                 Traceback (most recent call last)",
      "\u001b[0;32m/tmp/ipykernel_442/1876497197.py\u001b[0m in \u001b[0;36m<module>\u001b[0;34m\u001b[0m\n\u001b[1;32m      3\u001b[0m \u001b[0;34m\u001b[0m\u001b[0m\n\u001b[1;32m      4\u001b[0m \u001b[0;31m# Creando el grafico de cajas\u001b[0m\u001b[0;34m\u001b[0m\u001b[0;34m\u001b[0m\u001b[0m\n\u001b[0;32m----> 5\u001b[0;31m \u001b[0mbp2\u001b[0m \u001b[0;34m=\u001b[0m \u001b[0max\u001b[0m\u001b[0;34m.\u001b[0m\u001b[0mboxplot\u001b[0m\u001b[0;34m(\u001b[0m\u001b[0mdf_par_rad\u001b[0m\u001b[0;34m,\u001b[0m \u001b[0mhue\u001b[0m \u001b[0;34m=\u001b[0m \u001b[0;34m\"radius\"\u001b[0m\u001b[0;34m)\u001b[0m\u001b[0;34m\u001b[0m\u001b[0;34m\u001b[0m\u001b[0m\n\u001b[0m",
      "\u001b[0;32m~/anaconda3/lib/python3.9/site-packages/matplotlib/__init__.py\u001b[0m in \u001b[0;36minner\u001b[0;34m(ax, data, *args, **kwargs)\u001b[0m\n\u001b[1;32m   1359\u001b[0m     \u001b[0;32mdef\u001b[0m \u001b[0minner\u001b[0m\u001b[0;34m(\u001b[0m\u001b[0max\u001b[0m\u001b[0;34m,\u001b[0m \u001b[0;34m*\u001b[0m\u001b[0margs\u001b[0m\u001b[0;34m,\u001b[0m \u001b[0mdata\u001b[0m\u001b[0;34m=\u001b[0m\u001b[0;32mNone\u001b[0m\u001b[0;34m,\u001b[0m \u001b[0;34m**\u001b[0m\u001b[0mkwargs\u001b[0m\u001b[0;34m)\u001b[0m\u001b[0;34m:\u001b[0m\u001b[0;34m\u001b[0m\u001b[0;34m\u001b[0m\u001b[0m\n\u001b[1;32m   1360\u001b[0m         \u001b[0;32mif\u001b[0m \u001b[0mdata\u001b[0m \u001b[0;32mis\u001b[0m \u001b[0;32mNone\u001b[0m\u001b[0;34m:\u001b[0m\u001b[0;34m\u001b[0m\u001b[0;34m\u001b[0m\u001b[0m\n\u001b[0;32m-> 1361\u001b[0;31m             \u001b[0;32mreturn\u001b[0m \u001b[0mfunc\u001b[0m\u001b[0;34m(\u001b[0m\u001b[0max\u001b[0m\u001b[0;34m,\u001b[0m \u001b[0;34m*\u001b[0m\u001b[0mmap\u001b[0m\u001b[0;34m(\u001b[0m\u001b[0msanitize_sequence\u001b[0m\u001b[0;34m,\u001b[0m \u001b[0margs\u001b[0m\u001b[0;34m)\u001b[0m\u001b[0;34m,\u001b[0m \u001b[0;34m**\u001b[0m\u001b[0mkwargs\u001b[0m\u001b[0;34m)\u001b[0m\u001b[0;34m\u001b[0m\u001b[0;34m\u001b[0m\u001b[0m\n\u001b[0m\u001b[1;32m   1362\u001b[0m \u001b[0;34m\u001b[0m\u001b[0m\n\u001b[1;32m   1363\u001b[0m         \u001b[0mbound\u001b[0m \u001b[0;34m=\u001b[0m \u001b[0mnew_sig\u001b[0m\u001b[0;34m.\u001b[0m\u001b[0mbind\u001b[0m\u001b[0;34m(\u001b[0m\u001b[0max\u001b[0m\u001b[0;34m,\u001b[0m \u001b[0;34m*\u001b[0m\u001b[0margs\u001b[0m\u001b[0;34m,\u001b[0m \u001b[0;34m**\u001b[0m\u001b[0mkwargs\u001b[0m\u001b[0;34m)\u001b[0m\u001b[0;34m\u001b[0m\u001b[0;34m\u001b[0m\u001b[0m\n",
      "\u001b[0;31mTypeError\u001b[0m: boxplot() got an unexpected keyword argument 'hue'"
     ]
    },
    {
     "data": {
      "image/png": "[encoded data removed]",
      "text/plain": [
       "<Figure size 1080x720 with 1 Axes>"
      ]
     },
     "metadata": {
      "needs_background": "light"
     },
     "output_type": "display_data"
    }
   ],
   "source": [
    "fig2 = plt.figure(figsize= (15,10))\n",
    "ax2 = fig2.add_subplot(111)\n",
    "\n",
    "# Creando el grafico de cajas\n",
    "bp2 = ax.boxplot(df_par_rad, hue = \"radius\")"
   ]
  }
 ],
 "metadata": {
  "interpreter": {
   "hash": "a2a25da4702e7ca1aacc8a7d4e81059851e19fd1060402175b35fae4c2a518e8"
  },
  "kernelspec": {
   "display_name": "Python 3.9.7 ('base')",
   "language": "python",
   "name": "python3"
  },
  "language_info": {
   "codemirror_mode": {
    "name": "ipython",
    "version": 3
   },
   "file_extension": ".py",
   "mimetype": "text/x-python",
   "name": "python",
   "nbconvert_exporter": "python",
   "pygments_lexer": "ipython3",
   "version": "3.9.7"
  },
  "orig_nbformat": 4
 },
 "nbformat": 4,
 "nbformat_minor": 2
}
